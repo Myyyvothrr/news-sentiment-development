{
 "cells": [
  {
   "cell_type": "code",
   "execution_count": null,
   "metadata": {
    "collapsed": true,
    "pycharm": {
     "name": "#%%\n",
     "is_executing": true
    }
   },
   "outputs": [],
   "source": [
    "import csv\n",
    "import pandas as pd\n",
    "\n",
    "label_names = {0: 'positive', 1: 'negative', 2: 'neutral'}\n",
    "ttlab_mapping = [+1, -1, 0]\n",
    "\n",
    "csv_delimiter = \"\\t\"\n",
    "# Remap \"hostile\" label (3) to \"negative\" (1) because the model does not yet support 4 classes\n",
    "label_remap = {3: 1}\n",
    "\n",
    "def load_data_file(csv_path, split_name):\n",
    "    lines = []\n",
    "\n",
    "    with open(csv_path, 'r') as f:\n",
    "        reader = csv.reader(f, delimiter=csv_delimiter)\n",
    "        for ind, row in enumerate(reader):\n",
    "            if len(row) != 2:\n",
    "                raise ValueError('Invalid row encountered.')\n",
    "            # export raw data\n",
    "            #text = self.clean_text(row[0])\n",
    "            text = row[0]\n",
    "            label = int(row[1])\n",
    "            # If the label has an entry in the label_remap dict,\n",
    "            # it is remapped accordingly. Else, the label is kept.\n",
    "            label = label_remap.get(label, label)\n",
    "\n",
    "            lines.append({\n",
    "                \"text\": text,\n",
    "                \"original_label\": label,\n",
    "                \"ttlab_label\": ttlab_mapping[label],\n",
    "                \"split\": split_name,\n",
    "                \"id\": ind,\n",
    "                \"sentiment\": label_names[label]\n",
    "            })\n",
    "\n",
    "    df = pd.DataFrame(lines)\n",
    "    return df\n",
    "\n",
    "df_train = load_data_file(\"/home/daniel/data/uni/masterarbeit-sentiment/data/datasets/mdraw/train.csv\", \"train\")\n",
    "df_dev = load_data_file(\"/home/daniel/data/uni/masterarbeit-sentiment/data/datasets/mdraw/validation.csv\", \"dev\")\n",
    "\n",
    "df = pd.concat([df_train, df_dev])\n",
    "df.set_index(\"id\", inplace=True)\n",
    "df[\"dataset\"] = f\"german-news-sentiment-bert\"\n",
    "df"
   ]
  },
  {
   "cell_type": "code",
   "execution_count": 2,
   "outputs": [],
   "source": [
    "# export to db\n",
    "import sqlite3\n",
    "\n",
    "db_dir = \"/home/daniel/data/uni/masterarbeit-sentiment/data/datasets/experiments/de/3sentiment\"\n",
    "db_file = f\"{db_dir}/datasets.db\"\n",
    "\n",
    "con = sqlite3.connect(db_file)\n",
    "df.to_sql(\"dataset\", con=con, index=True, index_label=\"id\", if_exists='append')\n",
    "con.close()"
   ],
   "metadata": {
    "collapsed": false,
    "pycharm": {
     "name": "#%%\n"
    }
   }
  }
 ],
 "metadata": {
  "kernelspec": {
   "display_name": "Python 3",
   "language": "python",
   "name": "python3"
  },
  "language_info": {
   "codemirror_mode": {
    "name": "ipython",
    "version": 2
   },
   "file_extension": ".py",
   "mimetype": "text/x-python",
   "name": "python",
   "nbconvert_exporter": "python",
   "pygments_lexer": "ipython2",
   "version": "2.7.6"
  }
 },
 "nbformat": 4,
 "nbformat_minor": 0
}